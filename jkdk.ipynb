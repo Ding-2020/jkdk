{
 "cells": [
  {
   "cell_type": "code",
   "execution_count": 1,
   "source": [
    "import requests\n",
    "from bs4 import BeautifulSoup\n",
    "import re"
   ],
   "outputs": [],
   "metadata": {
    "collapsed": true
   }
  },
  {
   "cell_type": "code",
   "execution_count": 2,
   "source": [
    "headers = {\n",
    "    'User-Agent': 'Mozilla/5.0 (Windows NT 10.0; Win64; x64; rv:92.0) Gecko/20100101 Firefox/92.0',\n",
    "    'Referer': r'https://jksb.v.zzu.edu.cn/vls6sss/zzujksb.dll/login'\n",
    "}\n",
    "\n",
    "login_url = r'https://jksb.v.zzu.edu.cn/vls6sss/zzujksb.dll/login'\n",
    "uid = '201924080230'  # 用户号\n",
    "upw = 'PyfDsZ25nc*nQG'  # 密码"
   ],
   "outputs": [],
   "metadata": {
    "collapsed": false,
    "pycharm": {
     "name": "#%%\n"
    }
   }
  },
  {
   "cell_type": "code",
   "execution_count": 3,
   "source": [
    "data = {\n",
    "    'uid': uid, 'upw': upw\n",
    "}\n",
    "\n",
    "page = requests.post(login_url, data=data, headers=headers)\n",
    "print(page.text)\n"
   ],
   "outputs": [
    {
     "output_type": "stream",
     "name": "stdout",
     "text": [
      "<html>\n",
      "<head>\n",
      "<meta http-equiv=\"Content-Language\" content=\"zh-cn\">\n",
      "<meta http-equiv=\"Content-Type\" content=\"text/html; charset=gb2312\">\n",
      "<title></title>\n",
      "<script language=\"javascript\">\n",
      " var secs=0;\n",
      " for(var i=secs;i>=0;i--)\n",
      " {window.setTimeout(\"doUpdate(\" + i + \")\", (secs-i) * 1000);}\n",
      " function doUpdate(num)\n",
      " {if (num == 0){parent.window.location=\"https://jksb.v.zzu.edu.cn/vls6sss/zzujksb.dll/first6?ptopid=s82A45D44F09240F7BB43A1B9F7C4301F&sid=210815000301427365\"}}\n",
      "</script>\n",
      "</head>\n",
      "<body topmargin=\"0\" leftmargin=\"0\">\n",
      "</body>\n",
      "</html>\n"
     ]
    }
   ],
   "metadata": {
    "collapsed": false,
    "pycharm": {
     "name": "#%%\n"
    }
   }
  },
  {
   "cell_type": "code",
   "execution_count": 4,
   "source": [
    "patterns = re.compile(r'location=\"(.*?)\"')\n",
    "output = patterns.findall(page.text)\n",
    "print(output[0])\n"
   ],
   "outputs": [
    {
     "output_type": "stream",
     "name": "stdout",
     "text": [
      "https://jksb.v.zzu.edu.cn/vls6sss/zzujksb.dll/first6?ptopid=s82A45D44F09240F7BB43A1B9F7C4301F&sid=210815000301427365\n"
     ]
    }
   ],
   "metadata": {
    "collapsed": false,
    "pycharm": {
     "name": "#%%\n"
    }
   }
  },
  {
   "cell_type": "code",
   "execution_count": 18,
   "source": [
    "addr = output[0]\n",
    "outputs = re.search('ptopid=(.*)&sid=(.*)', output[0])\n",
    "ptopid = outputs.group(1)\n",
    "sid = outputs.group(2)\n",
    "\n",
    "headers = {\n",
    "    'User-Agent': 'Mozilla/5.0 (Windows NT 10.0; Win64; x64; rv:92.0) Gecko/20100101 Firefox/92.0',\n",
    "    'Referer': rf'https://jksb.v.zzu.edu.cn/vls6sss/zzujksb.dll/first6?ptopid={ptopid}&sid={sid}'\n",
    "}\n",
    "page = requests.get(addr, headers=headers)\n",
    "text = page.text.encode(page.encoding).decode(page.apparent_encoding)\n",
    "print(page.status_code)"
   ],
   "outputs": [
    {
     "output_type": "stream",
     "name": "stdout",
     "text": [
      "200\n"
     ]
    }
   ],
   "metadata": {}
  },
  {
   "cell_type": "code",
   "execution_count": 19,
   "source": [
    "with open('text2.html', 'w') as f:\n",
    "    f.write(text)"
   ],
   "outputs": [
    {
     "output_type": "stream",
     "name": "stdout",
     "text": [
      "<!DOCTYPE html>\n",
      "<head>\n",
      "<meta http-equiv=\"Content-Type\" content=\"text/html; charset=utf-8\" />\n",
      "<meta name=\"viewport\" content=\"width=350, initial-scale=1.0, maximum-scale=1.0, user-scalable=1.0, user-scalable=no;\" />\n",
      "<META HTTP-EQUIV=\"pragma\" CONTENT=\"no-cache\">\n",
      "<META HTTP-EQUIV=\"Cache-Control\" CONTENT=\"no-cache, must-revalidate\">\n",
      "<META HTTP-EQUIV=\"expires\" CONTENT=\"Wed, 26 Feb 2007 08:21:57 GMT\">\n",
      "<title>郑州大学数据中台2020</title>\n",
      "<style>\n",
      "BODY {width:100%;margin:0px auto; font-size:12px;font-family:\"宋体\",\"黑体\";background-color: #FFFFFF;}\n",
      "a:link {COLOR: #333333; TEXT-DECORATION: none;font-size:12px;}\n",
      "a:visited {COLOR: #333333; TEXT-DECORATION: none;font-size:12px;}\n",
      "a:hover {COLOR: #cf000e;TEXT-DECORATION: underline; font-size:12px;}\n",
      "#bak_0 {MARGIN:0 auto; left: 0;WIDTH: 350px; HEIGHT:540px;}\n",
      "</style>\n",
      "<script Language=\"javascript\">\n",
      "  document.onkeydown = function(){\n",
      "    if(event.keyCode==116){\n",
      "      event.keyCode=0;\n",
      "      event.returnValue = false;}}\n",
      "  document.oncontextmenu = function(){\n",
      "    event.returnValue = false;}\n",
      "  function zzjchangecart2(cnum){    \n",
      "    zzj_top_6s.window.zzjfun57c(cnum);\n",
      "  }\n",
      "  function zzjgotourla(us2){    \n",
      "    zzj_top_426.window.location=us2;\n",
      "  }\n",
      "  function zzjgotourlb(us2){    \n",
      "    zzj_top_6.window.location=us2;\n",
      "  }\n",
      "  function zzjgotourlc(us2){    \n",
      "    zzj_top_6s.window.location=us2;\n",
      "  }\n",
      "  function zzjbackfun(sid2){    \n",
      "    zzj_top_6.window.location=\"https://jksb.v.zzu.edu.cn/vls6sss/zzujksb.dll/backonestep?ptopid=s82A45D44F09240F7BB43A1B9F7C4301F&sid=\"+sid2;\n",
      "  }\n",
      "\n",
      "</script>\n",
      "</head>\n",
      "<body>\n",
      "<div style=\"MARGIN:0 auto; left: 0px;WIDTH: 360px; min-HEIGHT:540px;\">\n",
      "  <div style=\"WIDTH: 100%; HEIGHT: 10px;\"></div>\n",
      "  <div style=\"WIDTH: 100%; HEIGHT: 45px;background:url(https://jksb.v.zzu.edu.cn/imagesss/bar_jksb.png);\"></div>\n",
      "  <div style=\"WIDTH: 100%; HEIGHT: 484px;\">\n",
      "  <div style=\"WIDTH: 5px; HEIGHT: 100%;float:left;\"></div><div style=\"WIDTH: 350px; HEIGHT: 100%;float:left;\">\n",
      "    <iframe name=\"zzj_top_6s\" id=\"zzj_top_6s\" src=\"https://jksb.v.zzu.edu.cn/vls6sss/zzujksb.dll/jksb?ptopid=s82A45D44F09240F7BB43A1B9F7C4301F&sid=210815001804953600&fun2=\" marginwidth=\"0\" marginheight=\"0\" height=\"100%\"\n",
      "       width=\"100%\" scrolling=\"auto\" border=\"0\" frameborder=\"0\" allowtransparency=\"true\"></iframe>\n",
      "  </div><div style=\"WIDTH: 4px;; HEIGHT: 100%;float:right;\"></div>\n",
      "  </div>\n",
      "</div>\n",
      "<div style=\"width:1px;height:1px;\">\n",
      "  <iframe name=\"zzj_fun_426\" id=\"zzj_fun_426s\" src=\"https://jksb.v.zzu.edu.cn/vls6sss/zzujksb.dll/getsomething?ptopid=s82A45D44F09240F7BB43A1B9F7C4301F&sid=210815001804953522\" marginwidth=\"0\" marginheight=\"0\" height=\"100%\"\n",
      "    width=\"100%\" scrolling=\"no\" border=\"0\" frameborder=\"0\" allowtransparency=\"true\"></iframe>\n",
      "</div>\n",
      "\n",
      "</body>\n",
      "</html>\n",
      "\n",
      "\n"
     ]
    }
   ],
   "metadata": {}
  },
  {
   "cell_type": "code",
   "execution_count": 21,
   "source": [
    "bs4 = BeautifulSoup(text, 'lxml')\n",
    "body = bs4.find('iframe', attrs={'id':'zzj_top_6s'})\n",
    "print(body)"
   ],
   "outputs": [
    {
     "output_type": "stream",
     "name": "stdout",
     "text": [
      "<iframe allowtransparency=\"true\" border=\"0\" frameborder=\"0\" height=\"100%\" id=\"zzj_top_6s\" marginheight=\"0\" marginwidth=\"0\" name=\"zzj_top_6s\" scrolling=\"auto\" src=\"https://jksb.v.zzu.edu.cn/vls6sss/zzujksb.dll/jksb?ptopid=s82A45D44F09240F7BB43A1B9F7C4301F&amp;sid=210815001804953600&amp;fun2=\" width=\"100%\"></iframe>\n"
     ]
    }
   ],
   "metadata": {}
  },
  {
   "cell_type": "code",
   "execution_count": 9,
   "source": [
    "body = bs4.find('iframe', attrs={'id': 'zzj_top_6s'})\n",
    "src = body.get('src')\n",
    "\n",
    "headers = {\n",
    "    'User-Agent': 'Mozilla/5.0 (Windows NT 10.0; Win64; x64; rv:92.0) Gecko/20100101 Firefox/92.0',\n",
    "    'Referer': r'https://jksb.v.zzu.edu.cn/vls6sss/zzujksb.dll/first6?ptopid=s41913ADF4ECA49B7BC2A14AF0BA4E9E4&sid=210813225510308709'\n",
    "}"
   ],
   "outputs": [],
   "metadata": {
    "collapsed": false,
    "pycharm": {
     "name": "#%%\n"
    }
   }
  },
  {
   "cell_type": "code",
   "execution_count": 10,
   "source": [
    "# 为了鲁棒性，再求一遍ptopid和sid\n",
    "outputs = re.search('ptopid=(.*)&sid=(.*)', src)\n",
    "ptopid = outputs.group(1)\n",
    "sid = outputs.group(2)"
   ],
   "outputs": [],
   "metadata": {
    "collapsed": false,
    "pycharm": {
     "name": "#%%\n"
    }
   }
  },
  {
   "cell_type": "code",
   "execution_count": 11,
   "source": [
    "headers = {\n",
    "    'User-Agent': 'Mozilla/5.0 (Windows NT 10.0; Win64; x64; rv:92.0) Gecko/20100101 Firefox/92.0',\n",
    "    'Referer': src,\n",
    "    'Content-Type':'application/x-www-form-urlencoded'\n",
    "}\n",
    "\n",
    "page = requests.get(src, headers=headers)\n",
    "text = page.text.encode(page.encoding).decode(page.apparent_encoding)\n",
    "print(text)"
   ],
   "outputs": [
    {
     "output_type": "stream",
     "name": "stdout",
     "text": [
      "<!DOCTYPE html>\n",
      "<head>\n",
      "<meta http-equiv=\"Content-Type\" content=\"text/html; charset=utf-8\" />\n",
      "<meta name=\"viewport\" content=\"width=350, initial-scale=1.0, maximum-scale=1.0, user-scalable=1.0, user-scalable=no;\" />\n",
      "<META HTTP-EQUIV=\"pragma\" CONTENT=\"no-cache\">\n",
      "<META HTTP-EQUIV=\"Cache-Control\" CONTENT=\"no-cache, must-revalidate\">\n",
      "<META HTTP-EQUIV=\"expires\" CONTENT=\"Wed, 26 Feb 2007 08:21:57 GMT\">\n",
      "<title>郑州大学数据中台2020</title>\n",
      "<link rel=\"stylesheet\" type=\"text/css\" href=\"https://jksb.v.zzu.edu.cn/imagesss/_xwss_2017.css\" /><style>\n",
      "#bak_0 {MARGIN:0 auto; left: 0;WIDTH: 350px; min-HEIGHT:540px;}\n",
      "\n",
      "</style>\n",
      "<script Language=\"javascript\">\n",
      "  function zzjCallOneUrl(us){\n",
      "    document.getElementById(\"zzj_fun_426s\").src=us;\n",
      "  }\n",
      "  \n",
      "</script>\n",
      "</head>\n",
      "<body>\n",
      "<form method=\"POST\" name=\"myform52\" action=\"https://jksb.v.zzu.edu.cn/vls6sss/zzujksb.dll/jksb\">\n",
      "<div id=\"bak_0\">  \n",
      "  <div style=\"width:100%;height:8px;\"></div><div style=\"width:100%;height:25px;line-height:25px;font-size:14px;color:#bb0000;\"><div style=\"width:6px;height:100%;float:left;\"></div><div style=\"width:342px;height:100%;float:left;font-size:14px;color:#bb0000;\">选择填报人和填报类型</div><div style=\"width:2px;height:100%;float:right;\"></div></div><div style=\"width:100%;height:7px;BACKGROUND-IMAGE: url(/images/split5.png)\"></div>\n",
      "  <div style=\"width:100%;height:5px;\"></div><div style=\"width:100%;height:25px;\"><div style=\"width:120px;height:100%;line-height:25px;float:left;font-size:14px;color:#333\">填报类型：</div><div style=\"width:210px;height:100%;float:left;font-size:14px;color:#333;line-height:25px;\"><input type=\"radio\" value=\"b\" name=\"day6\" checked /> 每日填报</div><div style=\"width:2px;height:100%;float:right;\"></div></div><div style=\"width:100%;height:7px;BACKGROUND-IMAGE: url(/images/split5.png)\"></div><div style=\"width:100%;min-height:25px;line-height:25px;font-size:14px;color:#333\">填报日：2021年08月15日　<span style=\"color:#070\">今日您已经填报过了</span><br />填报时间：2021-08-15 00:00　<a href=\"https://jksb.v.zzu.edu.cn/vls6sss/zzujksb.dll/viewdata?ptopid=s82A45D44F09240F7BB43A1B9F7C4301F&fun2=h&mt2=&ws2=&us2=b&dw5=&nj5=&ids=201924080230&sid=210815000025979882\"><span style=\"color:#00d;font-size:14px;\">〖查看上报历史〗</span></a></div><div style=\"width:100%;height:7px;BACKGROUND-IMAGE: url(/images/split5.png)\"></div><div style=\"width:100%;height:25px;line-height:25px;font-size:14px;color:#333\"><span style=\"color:#f0f\">08月14日<img src=\"https://jksb.v.zzu.edu.cn/imagesss/ok2020.png\" style=\"width:16px;height:16px;border 0px;vertical-align:middle;\" />　</span><span style=\"color:#f0f\">08月13日<img src=\"https://jksb.v.zzu.edu.cn/imagesss/ok2020.png\" style=\"width:16px;height:16px;border 0px;vertical-align:middle;\" />　</span><span style=\"color:#888\">08月12日　</span><span style=\"color:#888\">08月11日　</span></div><div style=\"width:100%;height:7px;BACKGROUND-IMAGE: url(/images/split5.png)\"></div><div style=\"width:100%;height:25px;line-height:25px;font-size:14px;color:#333\"><span style=\"color:#888\">08月10日　</span><span style=\"color:#888\">08月09日　</span><span style=\"color:#888\">08月08日　</span><span style=\"color:#888\">08月07日　</span></div><div style=\"width:100%;height:7px;BACKGROUND-IMAGE: url(/images/split5.png)\"></div><div style=\"width:100%;height:25px;line-height:25px;font-size:14px;color:#a03495\">个人基本信息：　　<a href=\"https://jksb.v.zzu.edu.cn/vls6sss/zzujksb.dll/logout?ptopid=s82A45D44F09240F7BB43A1B9F7C4301F\"><span style=\"color:#00c;font-size:14px;\">〖切换账号〗</span></a>　<a href=\"https://jksb.v.zzu.edu.cn/vls6sss/zzujksb.dll/uploadok?ptopid=s82A45D44F09240F7BB43A1B9F7C4301F&sid=210815000025979882&fun2=a\"><span style=\"color:#00c;font-size:14px;\">〖上载照片〗</span></a><div style=\"width:100%;height:7px;BACKGROUND-IMAGE: url(/images/split5.png)\"></div><span style=\"color:#f0f\">国家政务平台健康码截图上传日：2021-08-09</span><br />　<span style=\"color:#f00\">你还没有上传</span>　<a href=\"http://xwssf1.v.zzu.edu.cn/vls6s/upfile2020c.exe/uploadok?ptopid=s82A45D44F09240F7BB43A1B9F7C4301F&sid=210815000025979882&fun2=c\" target=\"_parent\"><span style=\"color:#00c;font-size:14px;\">〖上传〗</span></a><div style=\"width:100%;height:7px;BACKGROUND-IMAGE: url(/images/split5.png)\"></div><div style=\"width:100%;min-height:105px;line-height:21px;font-size:14px;color:#333\">所属院系：<span style=\"color:#00f\">信息工程学院</span>　<a href=\"https://jksb.v.zzu.edu.cn/vls6sss/zzujksb.dll/viewphoto?ptopid=s82A45D44F09240F7BB43A1B9F7C4301F&sid=210815000025979882\"><span style=\"color:#00e;font-size:14px;\">〖查看照片〗</a><br />学号：<span style=\"color:#016d77\">201924080230</span>　　姓名：<span style=\"color:#016d77\">周誉喜</span><br />身份：<span style=\"color:#016d77\">本科生</span>　　<a href=\"https://jksb.v.zzu.edu.cn/vls6sss/zzujksb.dll/inss2vm?ptopid=s82A45D44F09240F7BB43A1B9F7C4301F&sid=210815000025979882\"><span style=\"color:#f0f;font-size:14px;\">〖宿舍开门二维码〗</span></a><br />你的辅导员：</span><span style=\"color:#016d77\">高书强</span><br /><span style=\"background-color:#b8e0ff;color:#00c\">返校时间2021年3月13日-14日，请认真核对和填写自己的信息。如有问题，请及时联系你的辅导员。</span><br />进校时进入的大门：<span style=\"color:#016d77\">主校区北大门</span><br />请注意：<span style=\"color:#f00\">你还没有上传国家政务平台健康码截图。</span><br />　　填写本人报到信息，已于2021-05-09 22:00截止<br />　<a href=\"https://door.v.zzu.edu.cn/qj/jk_qj/qj_ListIndex?ptopid=s82A45D44F09240F7BB43A1B9F7C4301F&sid2=210815000025979882&ruid=150000267937178\" target=\"_top\"><span style=\"color:#00c;font-size:14px;\">〖学生请假系统〗</span></a><br /></div><div style=\"width:100%;height:7px;BACKGROUND-IMAGE: url(/images/split5.png)\"></div>  \n",
      "  <div style=\"width:100%;height:32px;\"><div style=\"width:184px;height:100%;float:left;\"></div><div style=\"width:80px;height:100%;float:left;line-height:32px;font-family:黑体;background-image:url(/images/btn/redq80.png);text-align:center;\" onclick=\"window.location='https://jksb.v.zzu.edu.cn/vls6sss/zzujksb.dll/showonemsg?ptopid=s82A45D44F09240F7BB43A1B9F7C4301F&msg6=C4E3C8A1CFFBC1CBB1BEB4CEBDA1BFB5D7B4BFF6CCEEB1A8&sid=210815000025979882'\"><span style=\"font-size:14px;color:#b50000;\">取消</span></div><div style=\"width:3px;height:100%;float:left;\"></div><div style=\"width:80px;height:100%;float:left;line-height:32px;font-family:黑体;background-image:url(/images/btn/greenq80.png);text-align:center;\" onclick=\"myform52.submit()\"><span style=\"font-size:14px;color:#004a02;\">本人填报</span></div><div style=\"width:1px;height:100%;float:right;\"></div></div><div style=\"width:100%;height:26px;;line-height:26px;font-size:12px;color:#555;text-align:center;\">郑州大学疫情防控领导小组、信息化办公室自主研制，版权所有</div>\n",
      "</div>\n",
      "\n",
      "<div style=\"width:1px;height:1px;\">\n",
      "  <iframe name=\"zzj_fun_426\" id=\"zzj_fun_426s\" src=\"https://jksb.v.zzu.edu.cn/vls6sss/zzujksb.dll/getsomething?ptopid=s82A45D44F09240F7BB43A1B9F7C4301F&sid=210815000026810458\" marginwidth=\"0\" marginheight=\"0\" height=\"100%\"\n",
      "    width=\"100%\" scrolling=\"no\" border=\"0\" frameborder=\"0\" allowtransparency=\"true\"></iframe>\n",
      "</div>\n",
      "<input type=\"hidden\" name=\"did\" value=\"1\" /><input type=\"hidden\" name=\"door\" value=\"\" /><input type=\"hidden\" name=\"men6\" value=\"a\" /><input type=\"hidden\" name=\"ptopid\" value=\"s82A45D44F09240F7BB43A1B9F7C4301F\"><input type=\"hidden\" name=\"sid\" value=\"210815000026810818\"></form>\n",
      "\n",
      "<div style=\"width:100%;height:50px;\"></div>\n",
      "</body>\n",
      "</html>\n"
     ]
    }
   ],
   "metadata": {
    "collapsed": false,
    "pycharm": {
     "name": "#%%\n"
    }
   }
  },
  {
   "cell_type": "code",
   "execution_count": 12,
   "source": [
    "bs4 = BeautifulSoup(text, 'lxml')\n",
    "body = bs4.find('form', attrs={'name':'myform52'})\n",
    "print(body)"
   ],
   "outputs": [
    {
     "output_type": "stream",
     "name": "stdout",
     "text": [
      "<form action=\"https://jksb.v.zzu.edu.cn/vls6sss/zzujksb.dll/jksb\" method=\"POST\" name=\"myform52\">\n",
      "<div id=\"bak_0\">\n",
      "<div style=\"width:100%;height:8px;\"></div><div style=\"width:100%;height:25px;line-height:25px;font-size:14px;color:#bb0000;\"><div style=\"width:6px;height:100%;float:left;\"></div><div style=\"width:342px;height:100%;float:left;font-size:14px;color:#bb0000;\">选择填报人和填报类型</div><div style=\"width:2px;height:100%;float:right;\"></div></div><div style=\"width:100%;height:7px;BACKGROUND-IMAGE: url(/images/split5.png)\"></div>\n",
      "<div style=\"width:100%;height:5px;\"></div><div style=\"width:100%;height:25px;\"><div style=\"width:120px;height:100%;line-height:25px;float:left;font-size:14px;color:#333\">填报类型：</div><div style=\"width:210px;height:100%;float:left;font-size:14px;color:#333;line-height:25px;\"><input checked=\"\" name=\"day6\" type=\"radio\" value=\"b\"/> 每日填报</div><div style=\"width:2px;height:100%;float:right;\"></div></div><div style=\"width:100%;height:7px;BACKGROUND-IMAGE: url(/images/split5.png)\"></div><div style=\"width:100%;min-height:25px;line-height:25px;font-size:14px;color:#333\">填报日：2021年08月15日　<span style=\"color:#070\">今日您已经填报过了</span><br/>填报时间：2021-08-15 00:00　<a href=\"https://jksb.v.zzu.edu.cn/vls6sss/zzujksb.dll/viewdata?ptopid=s82A45D44F09240F7BB43A1B9F7C4301F&amp;fun2=h&amp;mt2=&amp;ws2=&amp;us2=b&amp;dw5=&amp;nj5=&amp;ids=201924080230&amp;sid=210815000025979882\"><span style=\"color:#00d;font-size:14px;\">〖查看上报历史〗</span></a></div><div style=\"width:100%;height:7px;BACKGROUND-IMAGE: url(/images/split5.png)\"></div><div style=\"width:100%;height:25px;line-height:25px;font-size:14px;color:#333\"><span style=\"color:#f0f\">08月14日<img src=\"https://jksb.v.zzu.edu.cn/imagesss/ok2020.png\" style=\"width:16px;height:16px;border 0px;vertical-align:middle;\"/>　</span><span style=\"color:#f0f\">08月13日<img src=\"https://jksb.v.zzu.edu.cn/imagesss/ok2020.png\" style=\"width:16px;height:16px;border 0px;vertical-align:middle;\"/>　</span><span style=\"color:#888\">08月12日　</span><span style=\"color:#888\">08月11日　</span></div><div style=\"width:100%;height:7px;BACKGROUND-IMAGE: url(/images/split5.png)\"></div><div style=\"width:100%;height:25px;line-height:25px;font-size:14px;color:#333\"><span style=\"color:#888\">08月10日　</span><span style=\"color:#888\">08月09日　</span><span style=\"color:#888\">08月08日　</span><span style=\"color:#888\">08月07日　</span></div><div style=\"width:100%;height:7px;BACKGROUND-IMAGE: url(/images/split5.png)\"></div><div style=\"width:100%;height:25px;line-height:25px;font-size:14px;color:#a03495\">个人基本信息：　　<a href=\"https://jksb.v.zzu.edu.cn/vls6sss/zzujksb.dll/logout?ptopid=s82A45D44F09240F7BB43A1B9F7C4301F\"><span style=\"color:#00c;font-size:14px;\">〖切换账号〗</span></a>　<a href=\"https://jksb.v.zzu.edu.cn/vls6sss/zzujksb.dll/uploadok?ptopid=s82A45D44F09240F7BB43A1B9F7C4301F&amp;sid=210815000025979882&amp;fun2=a\"><span style=\"color:#00c;font-size:14px;\">〖上载照片〗</span></a><div style=\"width:100%;height:7px;BACKGROUND-IMAGE: url(/images/split5.png)\"></div><span style=\"color:#f0f\">国家政务平台健康码截图上传日：2021-08-09</span><br/>　<span style=\"color:#f00\">你还没有上传</span>　<a href=\"http://xwssf1.v.zzu.edu.cn/vls6s/upfile2020c.exe/uploadok?ptopid=s82A45D44F09240F7BB43A1B9F7C4301F&amp;sid=210815000025979882&amp;fun2=c\" target=\"_parent\"><span style=\"color:#00c;font-size:14px;\">〖上传〗</span></a><div style=\"width:100%;height:7px;BACKGROUND-IMAGE: url(/images/split5.png)\"></div><div style=\"width:100%;min-height:105px;line-height:21px;font-size:14px;color:#333\">所属院系：<span style=\"color:#00f\">信息工程学院</span>　<a href=\"https://jksb.v.zzu.edu.cn/vls6sss/zzujksb.dll/viewphoto?ptopid=s82A45D44F09240F7BB43A1B9F7C4301F&amp;sid=210815000025979882\"><span style=\"color:#00e;font-size:14px;\">〖查看照片〗</span></a><br/>学号：<span style=\"color:#016d77\">201924080230</span>　　姓名：<span style=\"color:#016d77\">周誉喜</span><br/>身份：<span style=\"color:#016d77\">本科生</span>　　<a href=\"https://jksb.v.zzu.edu.cn/vls6sss/zzujksb.dll/inss2vm?ptopid=s82A45D44F09240F7BB43A1B9F7C4301F&amp;sid=210815000025979882\"><span style=\"color:#f0f;font-size:14px;\">〖宿舍开门二维码〗</span></a><br/>你的辅导员：<span style=\"color:#016d77\">高书强</span><br/><span style=\"background-color:#b8e0ff;color:#00c\">返校时间2021年3月13日-14日，请认真核对和填写自己的信息。如有问题，请及时联系你的辅导员。</span><br/>进校时进入的大门：<span style=\"color:#016d77\">主校区北大门</span><br/>请注意：<span style=\"color:#f00\">你还没有上传国家政务平台健康码截图。</span><br/>　　填写本人报到信息，已于2021-05-09 22:00截止<br/>　<a href=\"https://door.v.zzu.edu.cn/qj/jk_qj/qj_ListIndex?ptopid=s82A45D44F09240F7BB43A1B9F7C4301F&amp;sid2=210815000025979882&amp;ruid=150000267937178\" target=\"_top\"><span style=\"color:#00c;font-size:14px;\">〖学生请假系统〗</span></a><br/></div><div style=\"width:100%;height:7px;BACKGROUND-IMAGE: url(/images/split5.png)\"></div>\n",
      "<div style=\"width:100%;height:32px;\"><div style=\"width:184px;height:100%;float:left;\"></div><div onclick=\"window.location='https://jksb.v.zzu.edu.cn/vls6sss/zzujksb.dll/showonemsg?ptopid=s82A45D44F09240F7BB43A1B9F7C4301F&amp;msg6=C4E3C8A1CFFBC1CBB1BEB4CEBDA1BFB5D7B4BFF6CCEEB1A8&amp;sid=210815000025979882'\" style=\"width:80px;height:100%;float:left;line-height:32px;font-family:黑体;background-image:url(/images/btn/redq80.png);text-align:center;\"><span style=\"font-size:14px;color:#b50000;\">取消</span></div><div style=\"width:3px;height:100%;float:left;\"></div><div onclick=\"myform52.submit()\" style=\"width:80px;height:100%;float:left;line-height:32px;font-family:黑体;background-image:url(/images/btn/greenq80.png);text-align:center;\"><span style=\"font-size:14px;color:#004a02;\">本人填报</span></div><div style=\"width:1px;height:100%;float:right;\"></div></div><div style=\"width:100%;height:26px;;line-height:26px;font-size:12px;color:#555;text-align:center;\">郑州大学疫情防控领导小组、信息化办公室自主研制，版权所有</div>\n",
      "</div>\n",
      "<div style=\"width:1px;height:1px;\">\n",
      "<iframe allowtransparency=\"true\" border=\"0\" frameborder=\"0\" height=\"100%\" id=\"zzj_fun_426s\" marginheight=\"0\" marginwidth=\"0\" name=\"zzj_fun_426\" scrolling=\"no\" src=\"https://jksb.v.zzu.edu.cn/vls6sss/zzujksb.dll/getsomething?ptopid=s82A45D44F09240F7BB43A1B9F7C4301F&amp;sid=210815000026810458\" width=\"100%\"></iframe>\n",
      "</div>\n",
      "<input name=\"did\" type=\"hidden\" value=\"1\"/><input name=\"door\" type=\"hidden\" value=\"\"/><input name=\"men6\" type=\"hidden\" value=\"a\"/><input name=\"ptopid\" type=\"hidden\" value=\"s82A45D44F09240F7BB43A1B9F7C4301F\"/><input name=\"sid\" type=\"hidden\" value=\"210815000026810818\"/>\n",
      "<div style=\"width:100%;height:50px;\"></div>\n",
      "</div></form>\n"
     ]
    }
   ],
   "metadata": {
    "collapsed": false,
    "pycharm": {
     "name": "#%%\n"
    }
   }
  },
  {
   "cell_type": "code",
   "execution_count": 13,
   "source": [
    "form = {\n",
    "    'day6':'b',\n",
    "    'did':'1',\n",
    "    'door':'',\n",
    "    'men6':'a',\n",
    "    'ptopid':ptopid,\n",
    "    'sid':sid\n",
    "\n",
    "}\n",
    "\n",
    "headers = {\n",
    "    'User-Agent': 'Mozilla/5.0 (Windows NT 10.0; Win64; x64; rv:92.0) Gecko/20100101 Firefox/92.0',\n",
    "    'Referer': src,\n",
    "}\n",
    "\n",
    "src = body.get('action')\n",
    "print(src)\n",
    "\n",
    "page = requests.post(src, data=form, headers=headers)\n",
    "print(page.status_code)"
   ],
   "outputs": [
    {
     "output_type": "stream",
     "name": "stdout",
     "text": [
      "https://jksb.v.zzu.edu.cn/vls6sss/zzujksb.dll/jksb\n",
      "200\n"
     ]
    }
   ],
   "metadata": {
    "collapsed": false,
    "pycharm": {
     "name": "#%%\n"
    }
   }
  },
  {
   "cell_type": "code",
   "execution_count": 14,
   "source": [
    "text = page.text.encode(page.encoding).decode(page.apparent_encoding)\n",
    "print(text)"
   ],
   "outputs": [
    {
     "output_type": "stream",
     "name": "stdout",
     "text": [
      "<!DOCTYPE html>\n",
      "<head>\n",
      "<meta http-equiv=\"Content-Type\" content=\"text/html; charset=utf-8\" />\n",
      "<meta name=\"viewport\" content=\"width=350, initial-scale=1.0, maximum-scale=1.0, user-scalable=1.0, user-scalable=no;\" />\n",
      "<META HTTP-EQUIV=\"pragma\" CONTENT=\"no-cache\">\n",
      "<META HTTP-EQUIV=\"Cache-Control\" CONTENT=\"no-cache, must-revalidate\">\n",
      "<META HTTP-EQUIV=\"expires\" CONTENT=\"Wed, 26 Feb 2007 08:21:57 GMT\">\n",
      "<title>郑州大学数据中台2020</title>\n",
      "<link rel=\"stylesheet\" type=\"text/css\" href=\"https://jksb.v.zzu.edu.cn/imagesss/_xwss_2017.css\" /><style>\n",
      "#bak_0 {MARGIN:0 auto; left: 0;WIDTH: 350px; min-HEIGHT:540px;}\n",
      "\n",
      "</style>\n",
      "<script Language=\"javascript\">\n",
      "  function zzjCallOneUrl(us){\n",
      "    document.getElementById(\"zzj_fun_426s\").src=us;\n",
      "  }\n",
      "  var xmlHttp6a=null;\n",
      "try{\n",
      "  xmlHttp6a=new XMLHttpRequest();\n",
      "}catch(e){\n",
      "  try {\n",
      "    xmlHttp6a=new ActiveXObject(\"Microsoft.XMLHTTP\");\n",
      "  }catch(e){}\n",
      "}\n",
      "function zzjchangecart(dw5,by2){\n",
      "  var str56=\"\";\n",
      "  var us55=\"https://jksb.v.zzu.edu.cn/vls6sss/zzujksb.dll/getstr56?ty5=sheng&by2=\"+by2+\"&ids=\"+dw5;\n",
      "  if (xmlHttp6a){\n",
      "    xmlHttp6a.open(\"GET\",us55,false);\n",
      "    xmlHttp6a.send(null);\n",
      "    str56=xmlHttp6a.responseText;\n",
      "    document.getElementById(\"zy_210s\").innerHTML=str56;\n",
      "  }\n",
      "}\n",
      "function zzjchangecart2(dw5,by2,shi7){\n",
      "  myform52.sheng6.value=dw5;\n",
      "  var str56=\"\";\n",
      "  var us55=\"https://jksb.v.zzu.edu.cn/vls6sss/zzujksb.dll/getstr56?ty5=sheng2&by2=\"+by2+\"&ids=\"+dw5;\n",
      "  if (xmlHttp6a){\n",
      "    xmlHttp6a.open(\"GET\",us55,false);\n",
      "    xmlHttp6a.send(null);\n",
      "    str56=xmlHttp6a.responseText;\n",
      "    var sa6 = new Array();\n",
      "    sa6 = str56.split(\";\");\n",
      "    myform52.myvs_13b.options.length=0;\n",
      "    for (var i = 0; i < sa6.length; i++) {\n",
      "      var id6=sa6[i].substring(0,4);\n",
      "      var nam6=sa6[i].substring(4,sa6[i].length);\n",
      "      var varItem = new Option(nam6, id6);\n",
      "      myform52.myvs_13b.options.add(varItem);\n",
      "      if (id6 == shi7) {\n",
      "        myform52.myvs_13b.options[i].selected = true;\n",
      "      }\n",
      "    }\n",
      "  }\n",
      "}\n",
      "function zzjhideyer_a1(){\n",
      "document.getElementById(\"yer_a\").innerHTML=\"0.000000\";\n",
      "}\n",
      "function zzjhideyer_a2(){\n",
      "document.getElementById(\"yer_a\").innerHTML=\"\";\n",
      "}\n",
      "function zzjhideyer_b1(){\n",
      "document.getElementById(\"yer_b\").innerHTML=\"0.000000\";\n",
      "}\n",
      "function zzjhideyer_b2(){\n",
      "document.getElementById(\"yer_b\").innerHTML=\"\";\n",
      "}\n",
      "\n",
      "</script>\n",
      "</head>\n",
      "<body>\n",
      "<form method=\"POST\" name=\"myform52\" action=\"https://jksb.v.zzu.edu.cn/vls6sss/zzujksb.dll/jksb\">\n",
      "<div id=\"bak_0\">  \n",
      "  <div style=\"width:100%;height:8px;\"></div><div style=\"width:100%;height:25px;line-height:25px;font-size:14px;color:#bb0000;\"><div style=\"width:6px;height:100%;float:left;\"></div><div style=\"width:342px;height:100%;float:left;font-size:14px;color:#bb0000;\">每日健康状况打卡</div><div style=\"width:2px;height:100%;float:right;\"></div></div><div style=\"width:100%;height:7px;BACKGROUND-IMAGE: url(/images/split5.png)\"></div>\n",
      "  <div style=\"width:100%;height:5px;\"></div><div style=\"width:100%;height:25px;line-height:25px;font-size:14px;color:#a03495\">填报人学号：<span style=\"color:#00f\">201924080230</span>　姓名：<span style=\"color:#00f\">周誉喜</span></div><div style=\"width:100%;height:7px;BACKGROUND-IMAGE: url(/images/split5.png)\"></div><div style=\"width:100%;height:32px;\"><div style=\"width:154px;height:100%;float:left;\"></div><div style=\"width:80px;height:100%;float:left;line-height:32px;font-family:黑体;background-image:url(/images/btn/redq80.png);text-align:center;\" onclick=\"window.location='https://jksb.v.zzu.edu.cn/vls6sss/zzujksb.dll/jksb?ptopid=s82A45D44F09240F7BB43A1B9F7C4301F&sid=210815000315162260&door='\"><span style=\"font-size:14px;color:#b50000;\">上一步</span></div><div style=\"width:3px;height:100%;float:left;\"></div><div style=\"width:80px;height:100%;float:left;line-height:32px;font-family:黑体;background-image:url(/images/btn/greenq80.png);text-align:center;\" onclick=\"myform52.submit()\"><span style=\"font-size:14px;color:#004a02;\">提交表格</span></div><div style=\"width:1px;height:100%;float:right;\"></div></div><div style=\"width:100%;min-height:25px;line-height:25px;font-size:14px;color:#4c7eac\"><div style=\"width:100%;height:25px;line-height:25px;font-size:14px;color:#a03495\">一、健康状况监测指标：</div>\n",
      "<div style=\"width:100%;min-height:126px;line-height:21px;font-size:14px;color:#333\">1. 您今天是否有发热症状?　<input type=\"radio\" value=\"是\" name=\"myvs_1\"   /> <span style=\"color:#a00\">是</span>\n",
      "　<input type=\"radio\" value=\"否\" name=\"myvs_1\" checked  /> <span style=\"color:#070\">否</span>\n",
      "<br />\n",
      "2. 您今天是否有咳嗽症状?　<input type=\"radio\" value=\"是\" name=\"myvs_2\"   /> <span style=\"color:#a00\">是</span>\n",
      "　<input type=\"radio\" value=\"否\" name=\"myvs_2\" checked  /> <span style=\"color:#070\">否</span>\n",
      "<br />\n",
      "3. 您今天是否有乏力或轻微乏力症状?<br />　<input type=\"radio\" value=\"是\" name=\"myvs_3\"   /> <span style=\"color:#a00\">是</span>\n",
      "　<input type=\"radio\" value=\"否\" name=\"myvs_3\" checked  /> <span style=\"color:#070\">否</span>\n",
      "<br />\n",
      "4. 您今天是否有鼻塞、流涕、咽痛或腹泻等症状?<br />　<input type=\"radio\" value=\"是\" name=\"myvs_4\"   /> <span style=\"color:#a00\">是</span>\n",
      "　<input type=\"radio\" value=\"否\" name=\"myvs_4\" checked  /> <span style=\"color:#070\">否</span>\n",
      "<br />\n",
      "5. 您今天是否被所在地医疗机构确定为确诊病例?<br />　<input type=\"radio\" value=\"是\" name=\"myvs_5\"   /> <span style=\"color:#a00\">是</span>\n",
      "　<input type=\"radio\" value=\"否\" name=\"myvs_5\" checked  /> <span style=\"color:#070\">否</span>\n",
      "<br />\n",
      "6. 您今天是否被所在地医疗机构确定为疑似病例?<br />　<input type=\"radio\" value=\"是\" name=\"myvs_6\"   /> <span style=\"color:#a00\">是</span>\n",
      "　<input type=\"radio\" value=\"否\" name=\"myvs_6\" checked  /> <span style=\"color:#070\">否</span>\n",
      "<br />\n",
      "7. 您今天是否被所在地政府或医疗卫生部门确定为密切接触者?<br />　<input type=\"radio\" value=\"是\" name=\"myvs_7\"   /> <span style=\"color:#a00\">是</span>\n",
      "　<input type=\"radio\" value=\"否\" name=\"myvs_7\" checked  /> <span style=\"color:#070\">否</span>\n",
      "<br />\n",
      "<div style=\"width:100%;height:25px;line-height:25px;font-size:14px;color:#a03495\">二、感染风险监测指标：</div>\n",
      "<div style=\"width:100%;min-height:126px;line-height:21px;font-size:14px;color:#333\">8. 您今天是否被所在地医疗机构进行院内隔离观察治疗?<br />　<input type=\"radio\" value=\"是\" name=\"myvs_8\"   /> <span style=\"color:#a00\">是</span>\n",
      "　<input type=\"radio\" value=\"否\" name=\"myvs_8\" checked  /> <span style=\"color:#070\">否</span>\n",
      "<br />\n",
      "9. 您今天是否被要求在政府集中隔离点进行隔离观察?<br />　<input type=\"radio\" value=\"是\" name=\"myvs_9\"   /> <span style=\"color:#a00\">是</span>\n",
      "　<input type=\"radio\" value=\"否\" name=\"myvs_9\" checked  /> <span style=\"color:#070\">否</span>\n",
      "<br />\n",
      "10. 您今日是否被所在地政府有关部门或医院要求居家隔离观察? <br />　<input type=\"radio\" value=\"是\" name=\"myvs_10\"   /> <span style=\"color:#a00\">是</span>\n",
      "　<input type=\"radio\" value=\"否\" name=\"myvs_10\" checked  /> <span style=\"color:#070\">否</span>\n",
      "<br />\n",
      "11. 所在小区（村）是否有确诊病例?<span style=\"font-size:12px;color:#888\">(以当地政府公开信息为准)</span>　<input type=\"radio\" value=\"是\" name=\"myvs_11\"   /> <span style=\"color:#a00\">是</span>\n",
      "　<input type=\"radio\" value=\"否\" name=\"myvs_11\" checked  /> <span style=\"color:#070\">否</span>\n",
      "<br />\n",
      "12. 共同居住人是否有确诊病例? 　<input type=\"radio\" value=\"是\" name=\"myvs_12\"   /> <span style=\"color:#a00\">是</span>\n",
      "　<input type=\"radio\" value=\"否\" name=\"myvs_12\" checked  /> <span style=\"color:#070\">否</span>\n",
      "<br />\n",
      "<div style=\"width:100%;height:25px;line-height:25px;font-size:14px;color:#a03495\">三、行踪监测指标：</div>\n",
      "<div style=\"width:100%;min-height:126px;line-height:21px;font-size:14px;color:#333\">13. 当前实际所在地（若出差填写出差地）：<br />省份(自治区)：<select size=\"1\" name=\"myvs_13a\" id=\"myvs_13a\" style=\"border:1px solid #777;color:#0000FF;font-size:14px;\" ><option value=\"11\">北京市</option><option value=\"12\">天津市</option><option value=\"13\">河北省</option><option value=\"14\">山西省</option><option value=\"15\">内蒙古自治区</option><option value=\"21\">辽宁省</option><option value=\"22\">吉林省</option><option value=\"23\">黑龙江省</option><option value=\"31\">上海市</option><option value=\"32\">江苏省</option><option value=\"33\">浙江省</option><option value=\"34\">安徽省</option><option value=\"35\">福建省</option><option value=\"36\">江西省</option><option value=\"37\">山东省</option><option selected value=\"41\">河南省</option><option value=\"42\">湖北省</option><option value=\"43\">湖南省</option><option value=\"44\">广东省</option><option value=\"45\">广西壮族自治区</option><option value=\"46\">海南省</option><option value=\"50\">重庆市</option><option value=\"51\">四川省</option><option value=\"52\">贵州省</option><option value=\"53\">云南省</option><option value=\"54\">西藏自治区</option><option value=\"61\">陕西省</option><option value=\"62\">甘肃省</option><option value=\"63\">青海省</option><option value=\"64\">宁夏回族自治区</option><option value=\"65\">新疆维吾尔自治区</option><option value=\"71\">台湾省</option><option value=\"81\">香港特别行政区</option><option value=\"82\">澳门特别行政区</option><option value=\"99\">国外</option></select><input type=\"button\" value=\"获取地市\" style=\"color:#00f;font-size:13px;\" name=\"Btn3\" onclick=\"zzjchangecart2(myform52.myvs_13a.options[myform52.myvs_13a.options.selectedIndex].value,'y','4101')\" /><br />　　　　地市：<span id=\"zy_210s\"><select size=\"1\" name=\"myvs_13b\" id=\"myvs_13b\" style=\"border:1px solid #777;color:#0000FF;font-size:14px;\"><option selected value=\"4101\">郑州市</option><option value=\"4102\">开封市</option><option value=\"4103\">洛阳市</option><option value=\"4104\">平顶山市</option><option value=\"4105\">安阳市</option><option value=\"4106\">鹤壁市</option><option value=\"4107\">新乡市</option><option value=\"4108\">焦作市</option><option value=\"4109\">濮阳市</option><option value=\"4110\">许昌市</option><option value=\"4111\">漯河市</option><option value=\"4112\">三门峡市</option><option value=\"4113\">南阳市</option><option value=\"4114\">商丘市</option><option value=\"4115\">信阳市</option><option value=\"4116\">周口市</option><option value=\"4117\">驻马店市</option><option value=\"4118\">济源市</option></select></span><br /><input type=\"text\" name=\"myvs_13c\" size=\"40\" value=\"河南省.郑州市.科学大道100号\" class=\"combo2\" /><br />14. 您是否为当日返郑人员?<span style=\"font-size:12px;color:#888\">(若是，请填写：返回前居住地和抵郑时间)</span>　<input type=\"radio\" value=\"是\" name=\"myvs_14\"   /> <span style=\"color:#a00\">是</span>\n",
      "　<input type=\"radio\" value=\"否\" name=\"myvs_14\" checked  /> <span style=\"color:#070\">否</span>\n",
      "<br />\n",
      "<input type=\"text\" name=\"myvs_14b\" size=\"40\" value=\"\" class=\"combo2\" /><br />地理位置获取：<input type=\"text\" name=\"memo22\" size=\"26\" value=\"[待定]\" class=\"combo2\" readonly /><br /></div><div style=\"width:100%;height:7px;BACKGROUND-IMAGE: url(/images/split5.png)\"></div><div style=\"width:100%;min-height:20px;line-height:20px;font-size:14px;\">今日自动测温记录：<br />[未检索到]</div><div style=\"width:100%;height:7px;BACKGROUND-IMAGE: url(/images/split5.png)\"></div>\n",
      "  \n",
      "  <div style=\"width:100%;height:32px;\"><div style=\"width:154px;height:100%;float:left;\"></div><div style=\"width:80px;height:100%;float:left;line-height:32px;font-family:黑体;background-image:url(/images/btn/redq80.png);text-align:center;\" onclick=\"window.location='https://jksb.v.zzu.edu.cn/vls6sss/zzujksb.dll/jksb?ptopid=s82A45D44F09240F7BB43A1B9F7C4301F&sid=210815000315162260&door='\"><span style=\"font-size:14px;color:#b50000;\">上一步</span></div><div style=\"width:3px;height:100%;float:left;\"></div><div style=\"width:80px;height:100%;float:left;line-height:32px;font-family:黑体;background-image:url(/images/btn/greenq80.png);text-align:center;\" onclick=\"myform52.submit()\"><span style=\"font-size:14px;color:#004a02;\">提交表格</span></div><div style=\"width:1px;height:100%;float:right;\"></div></div>\n",
      "</div>\n",
      "\n",
      "<div style=\"width:1px;height:1px;\">\n",
      "  <iframe name=\"zzj_fun_426\" id=\"zzj_fun_426s\" src=\"https://jksb.v.zzu.edu.cn/vls6sss/zzujksb.dll/getsomething?ptopid=s82A45D44F09240F7BB43A1B9F7C4301F&sid=210815000315271323\" marginwidth=\"0\" marginheight=\"0\" height=\"100%\"\n",
      "    width=\"100%\" scrolling=\"no\" border=\"0\" frameborder=\"0\" allowtransparency=\"true\"></iframe>\n",
      "</div>\n",
      "<input type=\"hidden\" name=\"did\" value=\"2\" /><input type=\"hidden\" name=\"door\" value=\"\" /><input type=\"hidden\" name=\"day6\" value=\"b\" /><input type=\"hidden\" name=\"men6\" value=\"a\" /><input type=\"hidden\" name=\"sheng6\" value=\"\" /><input type=\"hidden\" name=\"shi6\" value=\"\" /><input type=\"hidden\" name=\"fun3\" value=\"\" /><input type=\"hidden\" name=\"jingdu\" value=\"0.000000\" /><input type=\"hidden\" name=\"weidu\" value=\"0.000000\" /><input type=\"hidden\" name=\"ptopid\" value=\"s82A45D44F09240F7BB43A1B9F7C4301F\"><input type=\"hidden\" name=\"sid\" value=\"210815000315271157\"></form>\n",
      "<script Language=\"javascript\">\n",
      "function getLocation() {\n",
      "    if (navigator.geolocation) {\n",
      "        navigator.geolocation.getCurrentPosition(showPosition);\n",
      "    } else {\n",
      "        myform52.memo22.value = \"不支持地理定位\";\n",
      "    }\n",
      "}\n",
      "function showPosition(position) {\n",
      "    myform52.weidu.value = position.coords.latitude.toFixed(6);\n",
      "    myform52.jingdu.value = position.coords.longitude.toFixed(6);\n",
      "    myform52.memo22.value = \"成功获取\";\n",
      "}\n",
      "function showError(error) {\n",
      "    switch (error.code) {\n",
      "        case error.PERMISSION_DENIED:\n",
      "            myform52.memo22.value = \"用户拒绝\";\n",
      "            break;\n",
      "        case error.POSITION_UNAVAILABLE:\n",
      "            myform52.memo22.value = \"无法获取\";\n",
      "            break;\n",
      "        case error.TIMEOUT:\n",
      "            myform52.memo22.value = \"请求超时\";\n",
      "            break;\n",
      "        case error.UNKNOWN_ERROR:\n",
      "            myform52.memo22.value = \"未知错误\";\n",
      "            break;\n",
      "    }\n",
      "}\n",
      "var options = {\n",
      "    enableHighAccuracy: true,\n",
      "    timeout: 4000,\n",
      "}\n",
      "window.navigator.geolocation.getCurrentPosition(showPosition, showError, options);\n",
      "</script>\n",
      "\n",
      "<div style=\"width:100%;height:50px;\"></div>\n",
      "</body>\n",
      "</html>\n"
     ]
    }
   ],
   "metadata": {
    "collapsed": false,
    "pycharm": {
     "name": "#%%\n"
    }
   }
  },
  {
   "cell_type": "code",
   "execution_count": 15,
   "source": [
    "form = {\n",
    "\t\"myvs_1\": \"否\",\n",
    "\t\"myvs_2\": \"否\",\n",
    "\t\"myvs_3\": \"否\",\n",
    "\t\"myvs_4\": \"否\",\n",
    "\t\"myvs_5\": \"否\",\n",
    "\t\"myvs_6\": \"否\",\n",
    "\t\"myvs_7\": \"否\",\n",
    "\t\"myvs_8\": \"否\",\n",
    "\t\"myvs_9\": \"否\",\n",
    "\t\"myvs_10\": \"否\",\n",
    "\t\"myvs_11\": \"否\",\n",
    "\t\"myvs_12\": \"否\",\n",
    "\t\"myvs_13a\": \"41\",\n",
    "\t\"myvs_13b\": \"4101\",\n",
    "\t\"myvs_13c\": \"河南省.郑州市.科学大道100号\",\n",
    "\t\"myvs_14\": \"否\",\n",
    "\t\"myvs_14b\": \"\",\n",
    "\t\"memo22\": \"[待定]\",\n",
    "\t\"did\": \"2\",\n",
    "\t\"door\": \"\",\n",
    "\t\"day6\": \"b\",\n",
    "\t\"men6\": \"a\",\n",
    "\t\"sheng6\": \"\",\n",
    "\t\"shi6\": \"\",\n",
    "\t\"fun3\": \"\",\n",
    "\t\"jingdu\": \"0.0000\",\n",
    "\t\"weidu\": \"0.0000\",\n",
    "\t\"ptopid\": ptopid,\n",
    "\t\"sid\": sid\n",
    "}\n",
    "\n",
    "\n",
    "bs4 = BeautifulSoup(text, 'lxml')\n",
    "body = bs4.find('form', attrs={'name':'myform52'})\n",
    "src = body.get('action')\n",
    "\n",
    "headers = {\n",
    "    'User-Agent': 'Mozilla/5.0 (Windows NT 10.0; Win64; x64; rv:92.0) Gecko/20100101 Firefox/92.0',\n",
    "    'Referer': src,\n",
    "    'Content-Type':'application/x-www-form-urlencoded'\n",
    "}"
   ],
   "outputs": [],
   "metadata": {
    "collapsed": false,
    "pycharm": {
     "name": "#%%\n"
    }
   }
  },
  {
   "cell_type": "code",
   "execution_count": 16,
   "source": [
    "page = requests.post(src, data=form, headers=headers)\n",
    "print(page.status_code)"
   ],
   "outputs": [
    {
     "output_type": "stream",
     "name": "stdout",
     "text": [
      "200\n"
     ]
    }
   ],
   "metadata": {}
  },
  {
   "cell_type": "code",
   "execution_count": 17,
   "source": [
    "text = page.text.encode(page.encoding).decode(page.apparent_encoding)\n",
    "# with open('text6.html', 'w') as f:\n",
    "#     f.write(text)\n",
    "\n",
    "bs4 = BeautifulSoup(text, 'lxml')\n",
    "body = bs4.find('form', attrs={'name':'myform52'})\n",
    "text = body.getText()\n",
    "if text.find('感谢'):\n",
    "    print('好耶')\n",
    "else:\n",
    "    print('不好')"
   ],
   "outputs": [
    {
     "output_type": "stream",
     "name": "stdout",
     "text": [
      "好耶\n"
     ]
    }
   ],
   "metadata": {}
  },
  {
   "cell_type": "code",
   "execution_count": null,
   "source": [],
   "outputs": [],
   "metadata": {}
  }
 ],
 "metadata": {
  "kernelspec": {
   "name": "python3",
   "display_name": "Python 3.9.6 64-bit ('venv': venv)"
  },
  "language_info": {
   "name": "python",
   "version": "3.9.6",
   "mimetype": "text/x-python",
   "codemirror_mode": {
    "name": "ipython",
    "version": 3
   },
   "pygments_lexer": "ipython3",
   "nbconvert_exporter": "python",
   "file_extension": ".py"
  },
  "interpreter": {
   "hash": "4fd5cd30155c591ecbf6b72cb653b0153f2649a4692aa14bdf14d1fd9d877417"
  }
 },
 "nbformat": 4,
 "nbformat_minor": 2
}