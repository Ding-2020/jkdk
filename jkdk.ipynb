{
 "cells": [
  {
   "cell_type": "code",
   "execution_count": 1,
   "metadata": {
    "collapsed": true
   },
   "outputs": [],
   "source": [
    "import requests\n",
    "from bs4 import BeautifulSoup\n",
    "import re"
   ]
  },
  {
   "cell_type": "code",
   "execution_count": 2,
   "outputs": [],
   "source": [
    "header = {\n",
    "    'User-Agent': 'Mozilla/5.0 (Windows NT 10.0; Win64; x64; rv:92.0) Gecko/20100101 Firefox/92.0',\n",
    "    'Referer': r'https://jksb.v.zzu.edu.cn/vls6sss/zzujksb.dll/login'\n",
    "}\n",
    "\n",
    "url = r'https://jksb.v.zzu.edu.cn/vls6sss/zzujksb.dll/first0?fun2=a'\n",
    "login_url = r'https://jksb.v.zzu.edu.cn/vls6sss/zzujksb.dll/login'\n",
    "uid = '201924080230'  # 用户号\n",
    "upw = 'PyfDsZ25nc*nQG'  # 密码"
   ],
   "metadata": {
    "collapsed": false,
    "pycharm": {
     "name": "#%%\n"
    }
   }
  },
  {
   "cell_type": "code",
   "execution_count": 4,
   "outputs": [
    {
     "name": "stdout",
     "output_type": "stream",
     "text": [
      "<html>\r\n",
      "<head>\r\n",
      "<meta http-equiv=\"Content-Language\" content=\"zh-cn\">\r\n",
      "<meta http-equiv=\"Content-Type\" content=\"text/html; charset=gb2312\">\r\n",
      "<title></title>\r\n",
      "<script language=\"javascript\">\r\n",
      " var secs=0;\r\n",
      " for(var i=secs;i>=0;i--)\r\n",
      " {window.setTimeout(\"doUpdate(\" + i + \")\", (secs-i) * 1000);}\r\n",
      " function doUpdate(num)\r\n",
      " {if (num == 0){parent.window.location=\"https://jksb.v.zzu.edu.cn/vls6sss/zzujksb.dll/first6?ptopid=sAE600BD3A47E45B5B6DA19E99C5B537E&sid=210813212828419604\"}}\r\n",
      "</script>\r\n",
      "</head>\r\n",
      "<body topmargin=\"0\" leftmargin=\"0\">\r\n",
      "</body>\r\n",
      "</html>\n"
     ]
    }
   ],
   "source": [
    "data = {\n",
    "    'uid': uid, 'upw': upw\n",
    "}\n",
    "\n",
    "page = requests.post(login_url, data=data, headers=header)\n",
    "print(page.text)"
   ],
   "metadata": {
    "collapsed": false,
    "pycharm": {
     "name": "#%%\n"
    }
   }
  },
  {
   "cell_type": "code",
   "execution_count": null,
   "outputs": [],
   "source": [
    "patterns = re.compile('location=\"(.*?)\"')\n"
   ],
   "metadata": {
    "collapsed": false,
    "pycharm": {
     "name": "#%%\n"
    }
   }
  }
 ],
 "metadata": {
  "kernelspec": {
   "display_name": "Python 3",
   "language": "python",
   "name": "python3"
  },
  "language_info": {
   "codemirror_mode": {
    "name": "ipython",
    "version": 2
   },
   "file_extension": ".py",
   "mimetype": "text/x-python",
   "name": "python",
   "nbconvert_exporter": "python",
   "pygments_lexer": "ipython2",
   "version": "2.7.6"
  }
 },
 "nbformat": 4,
 "nbformat_minor": 0
}